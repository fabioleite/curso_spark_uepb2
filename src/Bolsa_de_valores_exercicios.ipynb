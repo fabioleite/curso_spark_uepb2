{
 "cells": [
  {
   "cell_type": "code",
   "metadata": {
    "ExecuteTime": {
     "end_time": "2024-11-06T14:24:44.230462Z",
     "start_time": "2024-11-06T14:24:43.944687Z"
    }
   },
   "source": [
    "from pyspark.sql import SparkSession\n",
    "\n",
    "spark = SparkSession.builder \\\n",
    "    .master('local[*]') \\\n",
    "    .appName(\"Iniciando com Spark\") \\\n",
    "    .getOrCreate()"
   ],
   "outputs": [],
   "execution_count": 19
  },
  {
   "cell_type": "code",
   "metadata": {
    "ExecuteTime": {
     "end_time": "2024-11-06T14:24:45.950818Z",
     "start_time": "2024-11-06T14:24:45.942422Z"
    }
   },
   "source": "b3_stocks_1994_2020_path = \"/Users/fabioleite/PycharmProjects/curso_spark_uepb/Bolsa_de_valores/arquivo_base/b3_stocks_1994_2020.csv\"",
   "outputs": [],
   "execution_count": 20
  },
  {
   "cell_type": "code",
   "metadata": {
    "ExecuteTime": {
     "end_time": "2024-11-06T14:24:52.231693Z",
     "start_time": "2024-11-06T14:24:47.626833Z"
    }
   },
   "source": "b3_stocks = spark.read.csv(b3_stocks_1994_2020_path, header='true', inferSchema='true')",
   "outputs": [
    {
     "name": "stderr",
     "output_type": "stream",
     "text": [
      "                                                                                \r"
     ]
    }
   ],
   "execution_count": 21
  },
  {
   "cell_type": "markdown",
   "metadata": {},
   "source": [
    "# Transformar data (datetime) para DD/MM/AAAA. Atualmente o formato está YYY-MM-DD. 1994-07-04\n",
    "- Gerar um arquivo chamado b3stocks_T1.csv"
   ]
  },
  {
   "metadata": {
    "ExecuteTime": {
     "end_time": "2024-11-06T14:24:52.260296Z",
     "start_time": "2024-11-06T14:24:52.245948Z"
    }
   },
   "cell_type": "code",
   "source": "b3_stocks.printSchema()",
   "outputs": [
    {
     "name": "stdout",
     "output_type": "stream",
     "text": [
      "root\n",
      " |-- datetime: date (nullable = true)\n",
      " |-- ticker: string (nullable = true)\n",
      " |-- open: double (nullable = true)\n",
      " |-- close: double (nullable = true)\n",
      " |-- high: double (nullable = true)\n",
      " |-- low: double (nullable = true)\n",
      " |-- volume: double (nullable = true)\n",
      "\n"
     ]
    }
   ],
   "execution_count": 22
  },
  {
   "cell_type": "code",
   "metadata": {
    "ExecuteTime": {
     "end_time": "2024-11-06T14:43:40.102977Z",
     "start_time": "2024-11-06T14:43:39.465705Z"
    }
   },
   "source": [
    "from pyspark.sql.functions import to_date, col, date_format\n",
    "\n",
    "# Tratar o campo datetime para o tipo correto de dados (to_datetime)\n",
    "b3_stocks_dt_fromatada = b3_stocks.withColumn(\"data_formatada\", date_format(b3_stocks.datetime, format=\"dd/MM/yyyy\"))\n",
    "# Criar um campo novo chamado data formatada com a data formatada no padrao solicitado\n",
    "b3_stocks_dt_fromatada.show()"
   ],
   "outputs": [
    {
     "name": "stdout",
     "output_type": "stream",
     "text": [
      "+----------+------+--------+--------+--------+--------+--------+--------------+\n",
      "|  datetime|ticker|    open|   close|    high|     low|  volume|data_formatada|\n",
      "+----------+------+--------+--------+--------+--------+--------+--------------+\n",
      "|1994-07-04| ACE 3|    48.0|    48.0|    48.0|    47.0| 46550.0|    04/07/1994|\n",
      "|1994-07-04| ALP 3|  155.27|   156.0|   156.0|  155.27|163405.8|    04/07/1994|\n",
      "|1994-07-04| ALP 4|   131.0|   131.0|   131.0|   131.0|  6550.0|    04/07/1994|\n",
      "|1994-07-04| IBP 6|   600.0|   600.0|   600.0|   600.0|  7800.0|    04/07/1994|\n",
      "|1994-07-04| AQT 4|    0.89|    0.99|    0.99|    0.85| 13137.0|    04/07/1994|\n",
      "|1994-07-04| ARN 4|145400.0|145400.0|145400.0|145400.0|  1454.0|    04/07/1994|\n",
      "|1994-07-04| AVP 3|     2.9|     3.0|     3.0|     2.9|  1170.0|    04/07/1994|\n",
      "|1994-07-04| BBR 3|    20.0|    20.0|    20.0|    20.0|  2000.0|    04/07/1994|\n",
      "|1994-07-04| BAD 3|    13.0|    13.0|    13.0|    13.0|  3900.0|    04/07/1994|\n",
      "|1994-07-04| BSE 4|     9.8|     9.8|     9.8|     9.8|   980.0|    04/07/1994|\n",
      "|1994-07-04| BEG 4|    0.02|    0.02|    0.02|    0.02|    30.0|    04/07/1994|\n",
      "|1994-07-04| BES 4|     8.9|     8.7|     8.9|     8.7| 18650.0|    04/07/1994|\n",
      "|1994-07-04| BEP 4|    0.88|    0.88|    0.88|    0.88|   440.0|    04/07/1994|\n",
      "|1994-07-04| BRS 3|    0.32|    0.32|    0.32|    0.32|   160.0|    04/07/1994|\n",
      "|1994-07-04| BRS 4|    0.37|    0.37|    0.37|    0.37|   185.0|    04/07/1994|\n",
      "|1994-07-04| BCN 4|    4.71|     4.4|    4.71|    4.35| 12150.0|    04/07/1994|\n",
      "|1994-07-04| BEL 3|   99.66|   100.0|  100.04|   99.66| 77770.4|    04/07/1994|\n",
      "|1994-07-04| BEL 4|   98.18|    97.0|   98.18|    97.0|155672.0|    04/07/1994|\n",
      "|1994-07-04| BLP 4|    1.02|     0.9|    1.02|    0.85|  1042.0|    04/07/1994|\n",
      "|1994-07-04| BEM 3|    1.29|    1.29|    1.29|    1.29| 5368.98|    04/07/1994|\n",
      "+----------+------+--------+--------+--------+--------+--------+--------------+\n",
      "only showing top 20 rows\n",
      "\n"
     ]
    }
   ],
   "execution_count": 34
  },
  {
   "metadata": {
    "ExecuteTime": {
     "end_time": "2024-11-06T14:52:54.804523Z",
     "start_time": "2024-11-06T14:52:49.506279Z"
    }
   },
   "cell_type": "code",
   "source": [
    "quantidade_vazia = b3_stocks_dt_fromatada.filter(col(\"data_formatada\").isNull()).count()\n",
    "print(quantidade_vazia)  # Saída: 1"
   ],
   "outputs": [
    {
     "name": "stderr",
     "output_type": "stream",
     "text": [
      "[Stage 14:==============>                                           (2 + 6) / 8]\r"
     ]
    },
    {
     "name": "stdout",
     "output_type": "stream",
     "text": [
      "0\n"
     ]
    },
    {
     "name": "stderr",
     "output_type": "stream",
     "text": [
      "                                                                                \r"
     ]
    }
   ],
   "execution_count": 44
  },
  {
   "metadata": {
    "ExecuteTime": {
     "end_time": "2024-11-06T14:53:27.152490Z",
     "start_time": "2024-11-06T14:53:24.625413Z"
    }
   },
   "cell_type": "code",
   "source": "print(f\"Datas vazias no df original: {b3_stocks_dt_fromatada.filter(col(\"data_formatada\").isNull()).count()}\")",
   "outputs": [
    {
     "name": "stderr",
     "output_type": "stream",
     "text": [
      "[Stage 17:=======>                                                  (1 + 7) / 8]\r"
     ]
    },
    {
     "name": "stdout",
     "output_type": "stream",
     "text": [
      "Datas vazias no df original: 0\n"
     ]
    },
    {
     "name": "stderr",
     "output_type": "stream",
     "text": [
      "                                                                                \r"
     ]
    }
   ],
   "execution_count": 45
  },
  {
   "cell_type": "markdown",
   "metadata": {},
   "source": "# T2 Considerando o arquivo anterior, fazer uma filtragem para que fique apenas um registro por dia. Esse registro deve ser apenas quele que possuir o maior volume negociado em bolsa."
  },
  {
   "metadata": {},
   "cell_type": "code",
   "source": "b3_stocks.info()",
   "outputs": [],
   "execution_count": null
  },
  {
   "metadata": {},
   "cell_type": "code",
   "source": "b3_stocks.reset_index(inplace=True)",
   "outputs": [],
   "execution_count": null
  },
  {
   "cell_type": "code",
   "metadata": {},
   "source": [
    "# maior_valor_por_dia = b3_stocks.groupby(['datetime','ticker'])['volume'].max()\n",
    "maior_valor_por_dia = b3_stocks.loc[b3_stocks.groupby('datetime')['volume'].idxmax()]\n",
    "# maior_valor_por_dia.columns = ['datetime', 'ticker', 'volume']\n",
    "# maior_valor_por_dia.reset_index(inplace=True)\n",
    "# maior_valor_por_dia.to_csv(\"Bolsa_de_valores/transformacoes/maior_valor_por_dia.csv\", header=True)\n",
    "b3stocks_filtro_T2_path = 'Bolsa_de_valores/transformacoes/b3stocks_F1.csv'\n",
    "b3stocks_filtro_T2 =  pd.read_csv(b3stocks_filtro_T2_path, header='infer')\n",
    "b3stocks_filtro_T2['datetime'] = pd.to_datetime(b3stocks_filtro_T2['datetime'], format='%d/%m/%Y')"
   ],
   "outputs": [],
   "execution_count": null
  },
  {
   "metadata": {},
   "cell_type": "code",
   "source": [
    "# print(b3stocks_filtro_T2[['datetime','volume']])\n",
    "# maior_valor_por_dia.columns.values[1] = 'volume'\n",
    "# print(maior_valor_por_dia.columns)\n",
    "# \n",
    "display(maior_valor_por_dia)\n",
    "\n",
    "# print(b3stocks_filtro_T2[['datetime','volume']])"
   ],
   "outputs": [],
   "execution_count": null
  },
  {
   "metadata": {},
   "cell_type": "code",
   "source": [
    "# maior_valor_por_dia[['datetime','volume']].info()\n",
    "b3stocks_filtro_T2[['datetime','volume']].info()"
   ],
   "outputs": [],
   "execution_count": null
  },
  {
   "metadata": {},
   "cell_type": "code",
   "source": [
    "maior_valor_por_dia.merge( b3stocks_filtro_T2, indicator=True, how='outer')\n",
    "# pd.testing.assert_series_equal(maior_valor_por_dia[['datetime','volume']], b3stocks_filtro_T2[['datetime','volume']], check_names=False)"
   ],
   "outputs": [],
   "execution_count": null
  },
  {
   "cell_type": "markdown",
   "metadata": {},
   "source": [
    "Considerando o arquivo da transformação T1 (b3stocks_T1.csv), fazer uma filtragem para que fique apenas os registros que possuírem volume negociado acima da média diária."
   ]
  },
  {
   "metadata": {},
   "cell_type": "code",
   "source": [
    "# Calcula a média diária de volume\n",
    "media_diaria = b3_stocks.groupby('datetime')['volume'].mean()\n",
    "\n",
    "# Cria uma coluna com a média diária\n",
    "b3_stocks['media_diaria'] = b3_stocks['datetime'].map(media_diaria)\n",
    "b3_stocks['media_diaria'] = b3_stocks['media_diaria'].apply(float)\n",
    "# Filtra as linhas com volume acima da média diária\n",
    "b3stocks_Media_diaria_maior = b3_stocks[b3_stocks['volume'] > b3_stocks['media_diaria']]"
   ],
   "outputs": [],
   "execution_count": null
  },
  {
   "metadata": {},
   "cell_type": "code",
   "source": "b3stocks_Media_diaria_maior.info()",
   "outputs": [],
   "execution_count": null
  },
  {
   "metadata": {},
   "cell_type": "code",
   "source": "b3_stocks['media_diaria'] = b3_stocks['media_diaria'].map('{:.2f}'.format)",
   "outputs": [],
   "execution_count": null
  },
  {
   "metadata": {},
   "cell_type": "code",
   "source": "display(b3stocks_Media_diaria_maior.sort_values('datetime', ascending=True))",
   "outputs": [],
   "execution_count": null
  },
  {
   "metadata": {},
   "cell_type": "code",
   "source": [
    "b3stocks_Filtro_T3_path = \"Bolsa_de_valores/transformacoes/b3stocks_T1_Filtrado.csv\"\n",
    "b3stocks_filtro_T3 = pd.read_csv(b3stocks_Filtro_T3_path, header='infer')\n",
    "b3stocks_filtro_T3['datetime'] = pd.to_datetime(b3stocks_filtro_T3['datetime'], format='%d/%m/%Y')\n"
   ],
   "outputs": [],
   "execution_count": null
  },
  {
   "metadata": {},
   "cell_type": "code",
   "source": "resultado = b3stocks_Media_diaria_maior.merge(b3stocks_filtro_T3, indicator=True, how='outer')",
   "outputs": [],
   "execution_count": null
  },
  {
   "metadata": {},
   "cell_type": "code",
   "source": [
    "print(\"Total de registros filtrados: {:,}\".format(len(b3stocks_Media_diaria_maior)))\n",
    "print(\"Total de registros filtrados pelo grupo: {:,}\".format(len(b3stocks_filtro_T3)))\n",
    "print(\"Total de registros filtrados diferença: {:,}\".format(len(resultado[resultado['_merge'] != 'both'])))\n"
   ],
   "outputs": [],
   "execution_count": null
  },
  {
   "cell_type": "code",
   "metadata": {},
   "source": [
    "# Remove a coluna auxiliar\n",
    "# df_filtrado = df_filtrado.drop('media_diaria', axis=1)"
   ],
   "outputs": [],
   "execution_count": null
  }
 ],
 "metadata": {
  "kernelspec": {
   "display_name": "Python 3",
   "language": "python",
   "name": "python3"
  },
  "language_info": {
   "codemirror_mode": {
    "name": "ipython",
    "version": 3
   },
   "file_extension": ".py",
   "mimetype": "text/x-python",
   "name": "python",
   "nbconvert_exporter": "python",
   "pygments_lexer": "ipython3",
   "version": "3.12.0"
  }
 },
 "nbformat": 4,
 "nbformat_minor": 2
}
