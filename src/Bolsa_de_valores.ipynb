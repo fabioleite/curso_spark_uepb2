{
 "cells": [
  {
   "cell_type": "code",
   "metadata": {},
   "source": [
    "import pandas as pd\n",
    "import numpy as np\n",
    "from datetime import datetime, date"
   ],
   "outputs": [],
   "execution_count": null
  },
  {
   "cell_type": "code",
   "metadata": {},
   "source": [
    "b3stocks_T1_path = \"Bolsa_de_valores/transformacoes/b3stocks_T1.csv\"\n",
    "b3_stocks_1994_2020_path = \"Bolsa_de_valores/arquivo_base/b3_stocks_1994_2020.csv\""
   ],
   "outputs": [],
   "execution_count": null
  },
  {
   "cell_type": "code",
   "metadata": {},
   "source": [
    "b3_stocks = pd.read_csv(b3_stocks_1994_2020_path, header='infer')\n",
    "b3stocks_T1 = pd.read_csv(b3stocks_T1_path, header='infer')\n"
   ],
   "outputs": [],
   "execution_count": null
  },
  {
   "cell_type": "markdown",
   "metadata": {},
   "source": [
    "Transformar data (datetime) para DD/MM/AAAA. Atualmente o formato está YYY-MM-DD. 1994-07-04\n",
    "Gerar um arquivo chamado b3stocks_T1.csv"
   ]
  },
  {
   "cell_type": "code",
   "metadata": {},
   "source": [
    "b3_stocks['datetime'] = pd.to_datetime(b3_stocks.datetime, format='%Y-%m-%d')\n",
    "b3_stocks['data_formatada'] = b3_stocks['datetime'].dt.strftime('%d/%m/%Y')\n",
    "datas_formatadas_aluno_t1 = b3stocks_T1['datetime']"
   ],
   "outputs": [],
   "execution_count": null
  },
  {
   "metadata": {},
   "cell_type": "code",
   "source": [
    "print(f\"Datas vazias no df original: {b3_stocks['datetime'].isnull().sum()}\")\n",
    "print(f\"Datas vazias no df formatado: {datas_formatadas_aluno_t1.isnull().sum()}\")"
   ],
   "outputs": [],
   "execution_count": null
  },
  {
   "cell_type": "code",
   "metadata": {},
   "source": "pd.testing.assert_series_equal(b3_stocks['data_formatada'], datas_formatadas_aluno_t1, check_names=False)",
   "outputs": [],
   "execution_count": null
  },
  {
   "cell_type": "markdown",
   "metadata": {},
   "source": "# T2 Considerando o arquivo anterior, fazer uma filtragem para que fique apenas um registro por dia. Esse registro deve ser apenas quele que possuir o maior volume negociado em bolsa."
  },
  {
   "metadata": {},
   "cell_type": "code",
   "source": "b3_stocks.info()",
   "outputs": [],
   "execution_count": null
  },
  {
   "metadata": {},
   "cell_type": "code",
   "source": "b3_stocks.reset_index(inplace=True)",
   "outputs": [],
   "execution_count": null
  },
  {
   "cell_type": "code",
   "metadata": {},
   "source": [
    "# maior_valor_por_dia = b3_stocks.groupby(['datetime','ticker'])['volume'].max()\n",
    "maior_valor_por_dia = b3_stocks.loc[b3_stocks.groupby('datetime')['volume'].idxmax()]\n",
    "# maior_valor_por_dia.columns = ['datetime', 'ticker', 'volume']\n",
    "# maior_valor_por_dia.reset_index(inplace=True)\n",
    "# maior_valor_por_dia.to_csv(\"Bolsa_de_valores/transformacoes/maior_valor_por_dia.csv\", header=True)\n",
    "b3stocks_filtro_T2_path = 'Bolsa_de_valores/transformacoes/b3stocks_F1.csv'\n",
    "b3stocks_filtro_T2 =  pd.read_csv(b3stocks_filtro_T2_path, header='infer')\n",
    "b3stocks_filtro_T2['datetime'] = pd.to_datetime(b3stocks_filtro_T2['datetime'], format='%d/%m/%Y')"
   ],
   "outputs": [],
   "execution_count": null
  },
  {
   "metadata": {},
   "cell_type": "code",
   "source": [
    "# print(b3stocks_filtro_T2[['datetime','volume']])\n",
    "# maior_valor_por_dia.columns.values[1] = 'volume'\n",
    "# print(maior_valor_por_dia.columns)\n",
    "# \n",
    "display(maior_valor_por_dia)\n",
    "\n",
    "# print(b3stocks_filtro_T2[['datetime','volume']])"
   ],
   "outputs": [],
   "execution_count": null
  },
  {
   "metadata": {},
   "cell_type": "code",
   "source": [
    "# maior_valor_por_dia[['datetime','volume']].info()\n",
    "b3stocks_filtro_T2[['datetime','volume']].info()"
   ],
   "outputs": [],
   "execution_count": null
  },
  {
   "metadata": {},
   "cell_type": "code",
   "source": [
    "maior_valor_por_dia.merge( b3stocks_filtro_T2, indicator=True, how='outer')\n",
    "# pd.testing.assert_series_equal(maior_valor_por_dia[['datetime','volume']], b3stocks_filtro_T2[['datetime','volume']], check_names=False)"
   ],
   "outputs": [],
   "execution_count": null
  },
  {
   "cell_type": "markdown",
   "metadata": {},
   "source": [
    "Considerando o arquivo da transformação T1 (b3stocks_T1.csv), fazer uma filtragem para que fique apenas os registros que possuírem volume negociado acima da média diária."
   ]
  },
  {
   "metadata": {},
   "cell_type": "code",
   "source": [
    "# Calcula a média diária de volume\n",
    "media_diaria = b3_stocks.groupby('datetime')['volume'].mean()\n",
    "\n",
    "# Cria uma coluna com a média diária\n",
    "b3_stocks['media_diaria'] = b3_stocks['datetime'].map(media_diaria)\n",
    "b3_stocks['media_diaria'] = b3_stocks['media_diaria'].apply(float)\n",
    "# Filtra as linhas com volume acima da média diária\n",
    "b3stocks_Media_diaria_maior = b3_stocks[b3_stocks['volume'] > b3_stocks['media_diaria']]"
   ],
   "outputs": [],
   "execution_count": null
  },
  {
   "metadata": {},
   "cell_type": "code",
   "source": "b3stocks_Media_diaria_maior.info()",
   "outputs": [],
   "execution_count": null
  },
  {
   "metadata": {},
   "cell_type": "code",
   "source": "b3_stocks['media_diaria'] = b3_stocks['media_diaria'].map('{:.2f}'.format)",
   "outputs": [],
   "execution_count": null
  },
  {
   "metadata": {},
   "cell_type": "code",
   "source": "display(b3stocks_Media_diaria_maior.sort_values('datetime', ascending=True))",
   "outputs": [],
   "execution_count": null
  },
  {
   "metadata": {},
   "cell_type": "code",
   "source": [
    "b3stocks_Filtro_T3_path = \"Bolsa_de_valores/transformacoes/b3stocks_T1_Filtrado.csv\"\n",
    "b3stocks_filtro_T3 = pd.read_csv(b3stocks_Filtro_T3_path, header='infer')\n",
    "b3stocks_filtro_T3['datetime'] = pd.to_datetime(b3stocks_filtro_T3['datetime'], format='%d/%m/%Y')\n"
   ],
   "outputs": [],
   "execution_count": null
  },
  {
   "metadata": {},
   "cell_type": "code",
   "source": "resultado = b3stocks_Media_diaria_maior.merge(b3stocks_filtro_T3, indicator=True, how='outer')",
   "outputs": [],
   "execution_count": null
  },
  {
   "metadata": {},
   "cell_type": "code",
   "source": [
    "print(\"Total de registros filtrados: {:,}\".format(len(b3stocks_Media_diaria_maior)))\n",
    "print(\"Total de registros filtrados pelo grupo: {:,}\".format(len(b3stocks_filtro_T3)))\n",
    "print(\"Total de registros filtrados diferença: {:,}\".format(len(resultado[resultado['_merge'] != 'both'])))\n"
   ],
   "outputs": [],
   "execution_count": null
  },
  {
   "cell_type": "code",
   "metadata": {},
   "source": [
    "# Remove a coluna auxiliar\n",
    "# df_filtrado = df_filtrado.drop('media_diaria', axis=1)"
   ],
   "outputs": [],
   "execution_count": null
  }
 ],
 "metadata": {
  "kernelspec": {
   "display_name": "Python 3",
   "language": "python",
   "name": "python3"
  },
  "language_info": {
   "codemirror_mode": {
    "name": "ipython",
    "version": 3
   },
   "file_extension": ".py",
   "mimetype": "text/x-python",
   "name": "python",
   "nbconvert_exporter": "python",
   "pygments_lexer": "ipython3",
   "version": "3.12.0"
  }
 },
 "nbformat": 4,
 "nbformat_minor": 2
}
