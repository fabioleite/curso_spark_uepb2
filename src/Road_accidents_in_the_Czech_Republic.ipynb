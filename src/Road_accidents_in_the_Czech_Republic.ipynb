{
 "cells": [
  {
   "cell_type": "code",
   "metadata": {},
   "source": [
    "import numpy as np # linear algebra\n",
    "import pathlib\n",
    "from datetime import datetime, date\n",
    "from pyspark.sql import SparkSession\n",
    "from pyspark.sql.functions import avg, sum, count, col, format_number, monotonically_increasing_id, hour, mean,minute"
   ],
   "outputs": [],
   "execution_count": null
  },
  {
   "metadata": {},
   "cell_type": "markdown",
   "source": "Configuração do Spark"
  },
  {
   "metadata": {},
   "cell_type": "code",
   "source": [
    "import findspark\n",
    "import os\n",
    "os.environ[\"SPARK_HOME\"] = \"/Users/fabioleite/Downloads/spark-3.5.3-bin-hadoop3\"\n",
    "findspark.init()"
   ],
   "outputs": [],
   "execution_count": null
  },
  {
   "metadata": {},
   "cell_type": "code",
   "source": [
    "spark = SparkSession.builder.appName(\"Meu App\") \\\n",
    "    .config(\"spark.executor.extraJavaOptions\", \"-Djava.security.manager=allow\") \\\n",
    "    .getOrCreate()"
   ],
   "outputs": [],
   "execution_count": null
  },
  {
   "metadata": {},
   "cell_type": "markdown",
   "source": "### Leitura dos arquivos"
  },
  {
   "metadata": {},
   "cell_type": "code",
   "source": [
    "# Caminhos\n",
    "path_accidents_in_the_Czech_Republic = \"Road_accidents_in_the_Czech_Republic/arquivo_base/road_accidents_czechia_2016_2022.csv\"\n",
    "path_pedestrian = \"Road_accidents_in_the_Czech_Republic/arquivo_base/pedestrian.csv\"\n",
    "# Leituras e tratamentos iniciais\n",
    "df_pedestrians = spark.read.csv(path_pedestrian, header=True, sep=',')\n",
    "df_accidents = spark.read.csv(path_accidents_in_the_Czech_Republic, header=True, sep=',')"
   ],
   "outputs": [],
   "execution_count": null
  },
  {
   "metadata": {},
   "cell_type": "code",
   "source": [
    "df_accidents.describe()\n",
    "# df.printSchema()\n",
    "# df.show(truncate=False)"
   ],
   "outputs": [],
   "execution_count": null
  },
  {
   "metadata": {},
   "cell_type": "markdown",
   "source": [
    "### 1. Gere um arquivo chamado “alcohol_accidents.csv” a partir do arquivo “road_accidents_czechia_2016_2022.csv”, filtrar os acidentes em que houve detecção do ingerimento de bebida alcoólica. (filtrar pelo campo alcohol)\n",
    "\n",
    "+ Gere um arquivo chamado “alcohol_accidents.csv”."
   ]
  },
  {
   "metadata": {},
   "cell_type": "code",
   "source": [
    "# Agrupar por 'alcohol' e contar as ocorrências\n",
    "df_alcohol_count = df_accidents.groupBy('alcohol').agg(count('*').alias('count'))\n",
    "\n",
    "# Mostrar o resultado\n",
    "df_alcohol_count.show(truncate=False)"
   ],
   "outputs": [],
   "execution_count": null
  },
  {
   "metadata": {},
   "cell_type": "code",
   "source": [
    "# Leitura e tratamento dos arquivos do aluno\n",
    "path_alcohol_accidents_aluno = \"Road_accidents_in_the_Czech_Republic/transformações/alcohol_accidents.csv\"\n",
    "df_alcohol_accidents_aluno = spark.read.csv(path_alcohol_accidents_aluno, header=True, sep=',')"
   ],
   "outputs": [],
   "execution_count": null
  },
  {
   "metadata": {},
   "cell_type": "code",
   "source": [
    "# prompt: preciso selecionar todas as ocorrências de registros do df_accidents que iniciam com o valor 'yes blood alcohol content' na coluna alcohol\n",
    "\n",
    "# Selecionar todas as ocorrências de registros que iniciam com 'yes blood alcohol content' na coluna 'alcohol'\n",
    "df_accidents_alcohol = df_accidents.filter(df_accidents.alcohol.startswith('yes blood alcohol content'))\n",
    "\n",
    "# Mostrar o resultado\n",
    "df_accidents_alcohol.show()"
   ],
   "outputs": [],
   "execution_count": null
  },
  {
   "metadata": {},
   "cell_type": "code",
   "source": [
    "df_accidents_ne_filtered = df_accidents.filter(df_accidents.alcohol.startswith('yes blood alcohol content'))\n",
    "path_alcohol_accidents = \"Road_accidents_in_the_Czech_Republic/transformações/alcohol_accidents.csv\"\n",
    "df_alcohol_accidents = spark.read.csv(path_alcohol_accidents, header=True, sep=',')\n"
   ],
   "outputs": [],
   "execution_count": null
  },
  {
   "metadata": {},
   "cell_type": "code",
   "source": "df_alcohol_accidents.describe('alcohol').show()",
   "outputs": [],
   "execution_count": null
  },
  {
   "metadata": {},
   "cell_type": "code",
   "source": "df_accidents_ne_filtered.describe('alcohol').show()",
   "outputs": [],
   "execution_count": null
  },
  {
   "metadata": {},
   "cell_type": "code",
   "source": [
    "\n",
    "# Comparar os dois DataFrames usando um inner join\n",
    "df_comparison = df_alcohol_accidents.join(df_accidents_ne_filtered, on=['alcohol'], how='inner')\n",
    "\n",
    "# Ou, se você quiser comparar apenas a coluna 'alcohol', pode usar algo como:\n",
    "df_alcohol_accidents_alcohol_column = df_alcohol_accidents.select('alcohol')\n",
    "df_accidents_ne_filtered_alcohol_column = df_accidents_ne_filtered.select('alcohol')\n",
    "# Encontrar a diferença (valores únicos em cada DataFrame)\n",
    "df_difference = df_alcohol_accidents_alcohol_column.subtract(df_accidents_ne_filtered_alcohol_column)\n",
    "df_difference.show()"
   ],
   "outputs": [],
   "execution_count": null
  },
  {
   "metadata": {},
   "cell_type": "code",
   "source": [
    "# prompt: preciso exibir o total de registros do dataframe df_alcohol_accidents e df_accidents_ne_filtered\n",
    "\n",
    "print(\"Total de registros em df_alcohol_accidents:\", df_alcohol_accidents.count())\n",
    "print(\"Total de registros em df_accidents_ne_filtered:\", df_accidents_ne_filtered.count())"
   ],
   "outputs": [],
   "execution_count": null
  },
  {
   "metadata": {},
   "cell_type": "markdown",
   "source": [
    "### 2. Gere um arquivo chamado ”accidents_NCBMV.csv”, filtre pelo campo “crash_kind” os acidentes em que não houve colisão entre veículos em movimento. (filtrando por: not an option It is not a collision between moving vehicles)\n",
    "\n",
    "+ Gere um arquivo chamado “accidents_NCBMV.csv”."
   ]
  },
  {
   "metadata": {},
   "cell_type": "code",
   "source": [
    "df_accidents_filtered_crash_kind = df_accidents.filter(df_accidents.crash_kind == 'not an option It is not a collision between moving vehicles')\n",
    "df_accidents_filtered_crash_kind.show()"
   ],
   "outputs": [],
   "execution_count": null
  },
  {
   "metadata": {},
   "cell_type": "code",
   "source": "df_accidents_filtered_crash_kind.describe('crash_kind').show()",
   "outputs": [],
   "execution_count": null
  },
  {
   "metadata": {},
   "cell_type": "code",
   "source": [
    "path_accidents_NCBMV = 'Road_accidents_in_the_Czech_Republic/transformações/accidents_NCBMV.csv'\n",
    "df_accidents_NCBMV = spark.read.csv(path_accidents_NCBMV, header=True, sep=',')"
   ],
   "outputs": [],
   "execution_count": null
  },
  {
   "metadata": {},
   "cell_type": "code",
   "source": "df_accidents_NCBMV.describe('crash_kind').show()",
   "outputs": [],
   "execution_count": null
  },
  {
   "metadata": {},
   "cell_type": "code",
   "source": [
    "# Comparar os dois DataFrames usando um inner join\n",
    "df_comparison = df_accidents_filtered_crash_kind.join(df_accidents_NCBMV, on=['crash_kind'], how='inner')\n",
    "\n",
    "# Ou, se você quiser comparar apenas a coluna 'alcohol', pode usar algo como:\n",
    "df_accidents_filtered_crash_kind_column = df_accidents_filtered_crash_kind.select('crash_kind')\n",
    "df_accidents_NCBMV_column = df_accidents_NCBMV.select('crash_kind')\n",
    "# Encontrar a diferença (valores únicos em cada DataFrame)\n",
    "df_difference = df_accidents_filtered_crash_kind_column.subtract(df_accidents_NCBMV_column)\n",
    "df_difference.show()"
   ],
   "outputs": [],
   "execution_count": null
  },
  {
   "metadata": {},
   "cell_type": "code",
   "source": [
    "print(\"Total de registros em df_accidents_filtered_crash_kind:\", df_accidents_filtered_crash_kind.count())\n",
    "print(\"Total de registros em df_accidents_NCBMV:\", df_accidents_NCBMV.count())"
   ],
   "outputs": [],
   "execution_count": null
  },
  {
   "metadata": {},
   "cell_type": "markdown",
   "source": [
    "### 3. Considere o arquivo gerado no item 2 (accidents_NCBMV.csv), filtre pelo campo “accident_kind” os acidentes causados por animais da floresta. (collision with forest animals)\n",
    "+ Gere um arquivo chamado “accidents_CWFA.csv”."
   ]
  },
  {
   "metadata": {},
   "cell_type": "code",
   "source": [
    "path_accidents_NCBMV_animals = 'Road_accidents_in_the_Czech_Republic/transformações/accidents_NCBMV.csv'\n",
    "df_accidents_NCBMV = spark.read.csv(path_accidents_NCBMV, header=True, sep=',')"
   ],
   "outputs": [],
   "execution_count": null
  },
  {
   "metadata": {},
   "cell_type": "code",
   "source": [
    "df_accidents_animals = df_accidents.filter(df_accidents.accident_kind == 'collision with forest animals')\n",
    "df_accidents_animals.describe('accident_kind').show()"
   ],
   "outputs": [],
   "execution_count": null
  },
  {
   "metadata": {},
   "cell_type": "code",
   "source": "df_accidents_NCBMV.describe('accident_kind').show()",
   "outputs": [],
   "execution_count": null
  },
  {
   "metadata": {},
   "cell_type": "code",
   "source": [
    "df_comparison = df_accidents_animals.join(df_accidents_NCBMV, on=['accident_kind'], how='inner')\n",
    "\n",
    "# Ou, se você quiser comparar apenas a coluna 'alcohol', pode usar algo como:\n",
    "df_accidents_animals_column = df_accidents_animals.select('accident_kind')\n",
    "df_accidents_NCBMV_column = df_accidents_NCBMV.select('accident_kind')\n",
    "# Encontrar a diferença (valores únicos em cada DataFrame)\n",
    "df_difference = df_accidents_animals_column.subtract(df_accidents_NCBMV_column)\n",
    "df_difference.show()"
   ],
   "outputs": [],
   "execution_count": null
  },
  {
   "metadata": {},
   "cell_type": "markdown",
   "source": [
    "### 4. Filtre pela coluna “pedestrian_category.csv” no arquivo “pedestre.csv” os pedestres que estavam sob a influência de álcool.\n",
    "+ Gere um arquivo chamado “drunk_pedestrians.csv”"
   ]
  },
  {
   "metadata": {},
   "cell_type": "code",
   "source": [
    "path_drunk_pedestrians = 'Road_accidents_in_the_Czech_Republic/transformações/drunk_pedestrians.csv'\n",
    "df_accidents_drunk_pedestrians = spark.read.csv(path_drunk_pedestrians, header=True, sep=',')\n",
    "# df_accidents_drunk_pedestrians.show(truncate=False)\n",
    "df_drunk_pedestrians_grp= df_accidents_drunk_pedestrians.groupBy('pedestrian_category').agg(count('*').alias('count'))\n",
    "df_drunk_pedestrians_grp.show(truncate=False)"
   ],
   "outputs": [],
   "execution_count": null
  },
  {
   "metadata": {},
   "cell_type": "code",
   "source": "df_pedestrians.show(truncate=False)",
   "outputs": [],
   "execution_count": null
  },
  {
   "metadata": {},
   "cell_type": "markdown",
   "source": ""
  },
  {
   "metadata": {},
   "cell_type": "code",
   "source": "df_pedestrians.groupBy('pedestrian_condition').agg(count('*').alias('count')).show(truncate=False)",
   "outputs": [],
   "execution_count": null
  },
  {
   "metadata": {},
   "cell_type": "code",
   "source": [
    "# prompt: preciso selecionar os registros do df_pedestrians que possuem como valor para o campo pedestrian_condition começando com a string under the influence of alcohol\n",
    "\n",
    "# Filtrar os pedestres que estavam sob a influência de álcool\n",
    "df_drunk_pedestrians = df_pedestrians.filter(df_pedestrians.pedestrian_condition.startswith('under the influence of alcohol'))\n",
    "\n",
    "# Mostrar o resultado\n",
    "df_drunk_pedestrians.show()\n",
    "\n",
    "# Salvar o resultado em um arquivo CSV (opcional)\n",
    "# path_drunk_pedestrians = '/content/drive/MyDrive/UEPB_Drive/2024.2/LEDA/Accidents_Czech/transformações/drunk_pedestrians.csv'\n",
    "# df_drunk_pedestrians.write.csv(path_drunk_pedestrians, header=True)"
   ],
   "outputs": [],
   "execution_count": null
  },
  {
   "metadata": {},
   "cell_type": "code",
   "source": [
    "# prompt: preciso comparar dois dataframes df_accidents_drunk_pedestrians e df_drunk_pedestrians mostrar as diferenças e imprimir o total de registros de cada um\n",
    "\n",
    "# Comparar os dois DataFrames usando um inner join\n",
    "df_comparison = df_accidents_drunk_pedestrians.join(df_drunk_pedestrians, on=['pedestrian_category'], how='inner')\n",
    "\n",
    "# Ou, se você quiser comparar apenas a coluna 'pedestrian_category', pode usar algo como:\n",
    "df_accidents_drunk_pedestrians_column = df_accidents_drunk_pedestrians.select('pedestrian_category')\n",
    "df_drunk_pedestrians_column = df_drunk_pedestrians.select('pedestrian_category')\n",
    "\n",
    "# Encontrar a diferença (valores únicos em cada DataFrame)\n",
    "df_difference = df_accidents_drunk_pedestrians_column.subtract(df_drunk_pedestrians_column)\n",
    "df_difference.show()\n",
    "\n",
    "print(\"Total de registros em df_accidents_drunk_pedestrians:\", df_accidents_drunk_pedestrians.count())\n",
    "print(\"Total de registros em df_drunk_pedestrians:\", df_drunk_pedestrians.count())"
   ],
   "outputs": [],
   "execution_count": null
  },
  {
   "metadata": {},
   "cell_type": "markdown",
   "source": [
    "## Ordenações\n",
    "+ Ordenar o arquivo pela data do acidente (campo date) em ordem decrescente, da data mais recente para a menos recente.\n",
    "+  Ordenar o arquivo accidents_NCBMV.csv pela coluna “time” (campo time) em ordem crescente, do menor para o maior.\n",
    "+ Ordenar o arquivo accidents_NCBMV.csv pelo tipo de comunicação (campo communication_kind), em ordem alfabética crescente."
   ]
  },
  {
   "metadata": {},
   "cell_type": "code",
   "source": "",
   "outputs": [],
   "execution_count": null
  }
 ],
 "metadata": {
  "language_info": {
   "name": "python"
  },
  "kernelspec": {
   "name": "python3",
   "language": "python",
   "display_name": "Python 3 (ipykernel)"
  }
 },
 "nbformat": 4,
 "nbformat_minor": 2
}
